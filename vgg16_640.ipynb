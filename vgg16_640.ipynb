{
 "cells": [
  {
   "cell_type": "code",
   "execution_count": 10,
   "id": "6be4f2a6",
   "metadata": {},
   "outputs": [],
   "source": [
    "from keras.layers import Input, Lambda, Dense, Flatten\n",
    "from keras.models import Model\n",
    "from keras.applications.vgg16 import VGG16\n",
    "from keras.applications.vgg16 import preprocess_input\n",
    "from keras.preprocessing import image\n",
    "from keras.preprocessing.image import ImageDataGenerator\n",
    "from keras.models import Sequential\n",
    "import numpy as np\n",
    "from glob import glob\n",
    "import keras\n",
    "import matplotlib.pyplot as plt"
   ]
  },
  {
   "cell_type": "code",
   "execution_count": 15,
   "id": "1feab59e",
   "metadata": {},
   "outputs": [],
   "source": [
    "# import the libraries as shown below\n",
    "\n",
    "from tensorflow.keras.layers import Input, Lambda, Dense, Flatten\n",
    "from tensorflow.keras.models import Model\n",
    "from tensorflow.keras.applications.resnet50 import ResNet50\n",
    "#from keras.applications.vgg16 import VGG16\n",
    "from tensorflow.keras.applications.resnet50 import preprocess_input\n",
    "from tensorflow.keras.preprocessing import image\n",
    "from tensorflow.keras.preprocessing.image import ImageDataGenerator,load_img\n",
    "from tensorflow.keras.models import Sequential\n",
    "import numpy as np\n",
    "from glob import glob"
   ]
  },
  {
   "cell_type": "code",
   "execution_count": 31,
   "id": "5065433e",
   "metadata": {},
   "outputs": [],
   "source": [
    "# re-size all the images to this\n",
    "IMAGE_SIZE = [640, 640]\n",
    "\n",
    "train_path = 'Datasets/Train'\n",
    "valid_path = 'Datasets/Test'\n",
    "\n",
    "# add preprocessing layer to the front of VGG\n",
    "vgg = VGG16(input_shape=IMAGE_SIZE + [3], weights='imagenet', include_top=False)\n",
    "\n",
    "# don't train existing weights\n",
    "for layer in vgg.layers:\n",
    "  layer.trainable = False"
   ]
  },
  {
   "cell_type": "code",
   "execution_count": 3,
   "id": "e8700e73",
   "metadata": {},
   "outputs": [],
   "source": [
    "folders = glob('Datasets/Train/*')\n",
    "# our layers - you can add more if you want\n",
    "x = Flatten()(vgg.output)\n",
    "# x = Dense(1000, activation='relu')(x)\n",
    "prediction = Dense(len(folders), activation='softmax')(x)"
   ]
  },
  {
   "cell_type": "code",
   "execution_count": 4,
   "id": "7c511078",
   "metadata": {},
   "outputs": [
    {
     "name": "stdout",
     "output_type": "stream",
     "text": [
      "Model: \"model\"\n",
      "_________________________________________________________________\n",
      " Layer (type)                Output Shape              Param #   \n",
      "=================================================================\n",
      " input_1 (InputLayer)        [(None, 640, 640, 3)]     0         \n",
      "                                                                 \n",
      " block1_conv1 (Conv2D)       (None, 640, 640, 64)      1792      \n",
      "                                                                 \n",
      " block1_conv2 (Conv2D)       (None, 640, 640, 64)      36928     \n",
      "                                                                 \n",
      " block1_pool (MaxPooling2D)  (None, 320, 320, 64)      0         \n",
      "                                                                 \n",
      " block2_conv1 (Conv2D)       (None, 320, 320, 128)     73856     \n",
      "                                                                 \n",
      " block2_conv2 (Conv2D)       (None, 320, 320, 128)     147584    \n",
      "                                                                 \n",
      " block2_pool (MaxPooling2D)  (None, 160, 160, 128)     0         \n",
      "                                                                 \n",
      " block3_conv1 (Conv2D)       (None, 160, 160, 256)     295168    \n",
      "                                                                 \n",
      " block3_conv2 (Conv2D)       (None, 160, 160, 256)     590080    \n",
      "                                                                 \n",
      " block3_conv3 (Conv2D)       (None, 160, 160, 256)     590080    \n",
      "                                                                 \n",
      " block3_pool (MaxPooling2D)  (None, 80, 80, 256)       0         \n",
      "                                                                 \n",
      " block4_conv1 (Conv2D)       (None, 80, 80, 512)       1180160   \n",
      "                                                                 \n",
      " block4_conv2 (Conv2D)       (None, 80, 80, 512)       2359808   \n",
      "                                                                 \n",
      " block4_conv3 (Conv2D)       (None, 80, 80, 512)       2359808   \n",
      "                                                                 \n",
      " block4_pool (MaxPooling2D)  (None, 40, 40, 512)       0         \n",
      "                                                                 \n",
      " block5_conv1 (Conv2D)       (None, 40, 40, 512)       2359808   \n",
      "                                                                 \n",
      " block5_conv2 (Conv2D)       (None, 40, 40, 512)       2359808   \n",
      "                                                                 \n",
      " block5_conv3 (Conv2D)       (None, 40, 40, 512)       2359808   \n",
      "                                                                 \n",
      " block5_pool (MaxPooling2D)  (None, 20, 20, 512)       0         \n",
      "                                                                 \n",
      " flatten (Flatten)           (None, 204800)            0         \n",
      "                                                                 \n",
      " dense (Dense)               (None, 12)                2457612   \n",
      "                                                                 \n",
      "=================================================================\n",
      "Total params: 17,172,300\n",
      "Trainable params: 2,457,612\n",
      "Non-trainable params: 14,714,688\n",
      "_________________________________________________________________\n"
     ]
    }
   ],
   "source": [
    "model = Model(inputs=vgg.input, outputs=prediction)\n",
    "\n",
    "# view the structure of the model\n",
    "model.summary()\n",
    "\n",
    "# tell the model what cost and optimization method to use\n",
    "model.compile(\n",
    "  loss='categorical_crossentropy',\n",
    "  optimizer='adam',\n",
    "  metrics=['accuracy']\n",
    ")\n"
   ]
  },
  {
   "cell_type": "code",
   "execution_count": 5,
   "id": "b4ce2cf4",
   "metadata": {},
   "outputs": [
    {
     "name": "stdout",
     "output_type": "stream",
     "text": [
      "Found 300 images belonging to 12 classes.\n",
      "Found 36 images belonging to 12 classes.\n"
     ]
    }
   ],
   "source": [
    "from keras.preprocessing.image import ImageDataGenerator\n",
    "\n",
    "train_datagen = ImageDataGenerator(rescale = 1./255,\n",
    "                                   shear_range = 0.2,\n",
    "                                   zoom_range = 0.2,\n",
    "                                   horizontal_flip = True)\n",
    "\n",
    "test_datagen = ImageDataGenerator(rescale = 1./255)\n",
    "\n",
    "training_set = train_datagen.flow_from_directory('Datasets/Train',\n",
    "                                                 target_size = (640, 640),\n",
    "                                                 batch_size = 8,\n",
    "                                                 class_mode = 'categorical')\n",
    "\n",
    "test_set = test_datagen.flow_from_directory('Datasets/Test',\n",
    "                                            target_size = (640, 640),\n",
    "                                            batch_size = 8,\n",
    "                                            class_mode = 'categorical')\n",
    "\n"
   ]
  },
  {
   "cell_type": "code",
   "execution_count": 6,
   "id": "4e9399b8",
   "metadata": {},
   "outputs": [
    {
     "name": "stderr",
     "output_type": "stream",
     "text": [
      "C:\\Users\\Dhiyanesh\\AppData\\Local\\Temp\\ipykernel_50512\\815010719.py:1: UserWarning: `Model.fit_generator` is deprecated and will be removed in a future version. Please use `Model.fit`, which supports generators.\n",
      "  r=model.fit_generator(training_set,\n"
     ]
    },
    {
     "name": "stdout",
     "output_type": "stream",
     "text": [
      "Epoch 1/30\n",
      "38/38 [==============================] - ETA: 0s - loss: 24.6656 - accuracy: 0.1333WARNING:tensorflow:Your input ran out of data; interrupting training. Make sure that your dataset or generator can generate at least `steps_per_epoch * epochs` batches (in this case, 25 batches). You may need to use the repeat() function when building your dataset.\n",
      "38/38 [==============================] - 33s 578ms/step - loss: 24.6656 - accuracy: 0.1333 - val_loss: 11.3757 - val_accuracy: 0.2500\n",
      "Epoch 2/30\n",
      "38/38 [==============================] - 15s 377ms/step - loss: 6.6784 - accuracy: 0.4433\n",
      "Epoch 3/30\n",
      "38/38 [==============================] - 16s 404ms/step - loss: 3.3504 - accuracy: 0.5967\n",
      "Epoch 4/30\n",
      "38/38 [==============================] - 15s 385ms/step - loss: 2.8297 - accuracy: 0.6667\n",
      "Epoch 5/30\n",
      "38/38 [==============================] - 15s 394ms/step - loss: 3.1319 - accuracy: 0.7133\n",
      "Epoch 6/30\n",
      "38/38 [==============================] - 15s 388ms/step - loss: 2.1548 - accuracy: 0.7633\n",
      "Epoch 7/30\n",
      "38/38 [==============================] - 15s 392ms/step - loss: 4.0810 - accuracy: 0.6900\n",
      "Epoch 8/30\n",
      "38/38 [==============================] - 15s 390ms/step - loss: 2.0432 - accuracy: 0.8000\n",
      "Epoch 9/30\n",
      "38/38 [==============================] - 15s 380ms/step - loss: 1.3958 - accuracy: 0.8300\n",
      "Epoch 10/30\n",
      "38/38 [==============================] - 15s 382ms/step - loss: 2.3395 - accuracy: 0.7900\n",
      "Epoch 11/30\n",
      "38/38 [==============================] - 15s 383ms/step - loss: 2.0731 - accuracy: 0.8067\n",
      "Epoch 12/30\n",
      "38/38 [==============================] - 15s 384ms/step - loss: 0.7536 - accuracy: 0.9167\n",
      "Epoch 13/30\n",
      "38/38 [==============================] - 15s 382ms/step - loss: 0.7061 - accuracy: 0.9200\n",
      "Epoch 14/30\n",
      "38/38 [==============================] - 15s 375ms/step - loss: 0.6765 - accuracy: 0.9300\n",
      "Epoch 15/30\n",
      "38/38 [==============================] - 15s 389ms/step - loss: 0.7485 - accuracy: 0.9167\n",
      "Epoch 16/30\n",
      "38/38 [==============================] - 15s 385ms/step - loss: 1.1056 - accuracy: 0.8633\n",
      "Epoch 17/30\n",
      "38/38 [==============================] - 15s 385ms/step - loss: 0.6630 - accuracy: 0.9367\n",
      "Epoch 18/30\n",
      "38/38 [==============================] - 15s 384ms/step - loss: 0.5453 - accuracy: 0.9300\n",
      "Epoch 19/30\n",
      "38/38 [==============================] - 15s 387ms/step - loss: 1.8260 - accuracy: 0.8733\n",
      "Epoch 20/30\n",
      "38/38 [==============================] - 15s 387ms/step - loss: 0.9057 - accuracy: 0.8933\n",
      "Epoch 21/30\n",
      "38/38 [==============================] - 15s 389ms/step - loss: 0.5362 - accuracy: 0.9300\n",
      "Epoch 22/30\n",
      "38/38 [==============================] - 15s 384ms/step - loss: 0.7829 - accuracy: 0.9267\n",
      "Epoch 23/30\n",
      "38/38 [==============================] - 15s 393ms/step - loss: 1.2683 - accuracy: 0.9033\n",
      "Epoch 24/30\n",
      "38/38 [==============================] - 15s 386ms/step - loss: 0.6891 - accuracy: 0.9333\n",
      "Epoch 25/30\n",
      "38/38 [==============================] - 15s 395ms/step - loss: 0.2738 - accuracy: 0.9567\n",
      "Epoch 26/30\n",
      "38/38 [==============================] - 15s 382ms/step - loss: 1.2849 - accuracy: 0.8967\n",
      "Epoch 27/30\n",
      "38/38 [==============================] - 15s 393ms/step - loss: 0.6664 - accuracy: 0.9467\n",
      "Epoch 28/30\n",
      "38/38 [==============================] - 15s 386ms/step - loss: 0.9037 - accuracy: 0.9333\n",
      "Epoch 29/30\n",
      "38/38 [==============================] - 15s 385ms/step - loss: 0.7322 - accuracy: 0.9300\n",
      "Epoch 30/30\n",
      "38/38 [==============================] - 16s 402ms/step - loss: 0.4856 - accuracy: 0.9433\n"
     ]
    }
   ],
   "source": [
    "r=model.fit_generator(training_set,\n",
    "                         epochs = 30,\n",
    "                         validation_data = test_set,\n",
    "                         validation_steps = 25)\n"
   ]
  },
  {
   "cell_type": "code",
   "execution_count": 7,
   "id": "3b257a69",
   "metadata": {},
   "outputs": [
    {
     "data": {
      "image/png": "[encoded data removed]",
      "text/plain": [
       "<Figure size 640x480 with 1 Axes>"
      ]
     },
     "metadata": {},
     "output_type": "display_data"
    },
    {
     "data": {
      "text/plain": [
       "<Figure size 640x480 with 0 Axes>"
      ]
     },
     "metadata": {},
     "output_type": "display_data"
    }
   ],
   "source": [
    "plt.plot(r.history['loss'], label='train loss')\n",
    "plt.plot(r.history['val_loss'], label='val loss')\n",
    "plt.legend()\n",
    "plt.show()\n",
    "plt.savefig('LossVal_loss')"
   ]
  },
  {
   "cell_type": "code",
   "execution_count": 8,
   "id": "d2810886",
   "metadata": {},
   "outputs": [
    {
     "data": {
      "image/png": "[encoded data removed]",
      "text/plain": [
       "<Figure size 640x480 with 1 Axes>"
      ]
     },
     "metadata": {},
     "output_type": "display_data"
    },
    {
     "data": {
      "text/plain": [
       "<Figure size 640x480 with 0 Axes>"
      ]
     },
     "metadata": {},
     "output_type": "display_data"
    }
   ],
   "source": [
    "plt.plot(r.history['accuracy'], label='train acc')\n",
    "plt.plot(r.history['val_accuracy'], label='val acc')\n",
    "plt.legend()\n",
    "plt.show()\n",
    "plt.savefig('AccVal_acc')\n"
   ]
  },
  {
   "cell_type": "code",
   "execution_count": 10,
   "id": "74381c83",
   "metadata": {},
   "outputs": [],
   "source": [
    "import tensorflow as tf\n",
    "from keras.models import load_model\n",
    "model.save('vgg.h5')"
   ]
  },
  {
   "cell_type": "code",
   "execution_count": 11,
   "id": "5e8d5a9c",
   "metadata": {},
   "outputs": [],
   "source": [
    "model = keras.models.load_model('vgg.h5')"
   ]
  },
  {
   "cell_type": "code",
   "execution_count": 16,
   "id": "f0bd945f",
   "metadata": {},
   "outputs": [],
   "source": [
    "img=image.load_img('bq.JPG',target_size=(640,640))"
   ]
  },
  {
   "cell_type": "code",
   "execution_count": 17,
   "id": "3efeccd9",
   "metadata": {},
   "outputs": [
    {
     "data": {
      "text/plain": [
       "array([[[ 35., 100.,  57.],\n",
       "        [ 29.,  94.,  51.],\n",
       "        [ 32.,  97.,  55.],\n",
       "        ...,\n",
       "        [ 35.,  91.,  54.],\n",
       "        [ 33.,  89.,  52.],\n",
       "        [ 36.,  92.,  55.]],\n",
       "\n",
       "       [[ 42.,  97.,  55.],\n",
       "        [ 40.,  95.,  53.],\n",
       "        [ 34.,  89.,  49.],\n",
       "        ...,\n",
       "        [ 35.,  93.,  55.],\n",
       "        [ 31.,  89.,  51.],\n",
       "        [ 31.,  89.,  51.]],\n",
       "\n",
       "       [[ 56.,  91.,  51.],\n",
       "        [ 72., 107.,  67.],\n",
       "        [ 67., 101.,  64.],\n",
       "        ...,\n",
       "        [ 35.,  95.,  59.],\n",
       "        [ 26.,  86.,  50.],\n",
       "        [ 23.,  83.,  47.]],\n",
       "\n",
       "       ...,\n",
       "\n",
       "       [[  4.,  38.,  11.],\n",
       "        [  4.,  38.,  11.],\n",
       "        [  7.,  41.,  14.],\n",
       "        ...,\n",
       "        [  6., 116.,  79.],\n",
       "        [ 10., 120.,  83.],\n",
       "        [ 22., 132.,  95.]],\n",
       "\n",
       "       [[  3.,  39.,  11.],\n",
       "        [  9.,  45.,  17.],\n",
       "        [ 14.,  48.,  21.],\n",
       "        ...,\n",
       "        [ 18., 128.,  91.],\n",
       "        [ 12., 122.,  85.],\n",
       "        [ 16., 126.,  89.]],\n",
       "\n",
       "       [[  8.,  44.,  16.],\n",
       "        [ 12.,  48.,  20.],\n",
       "        [ 15.,  49.,  22.],\n",
       "        ...,\n",
       "        [ 21., 131.,  94.],\n",
       "        [ 20., 130.,  93.],\n",
       "        [ 19., 129.,  92.]]], dtype=float32)"
      ]
     },
     "execution_count": 17,
     "metadata": {},
     "output_type": "execute_result"
    }
   ],
   "source": [
    "x=image.img_to_array(img)\n",
    "x"
   ]
  },
  {
   "cell_type": "code",
   "execution_count": 18,
   "id": "437924d8",
   "metadata": {},
   "outputs": [
    {
     "data": {
      "text/plain": [
       "(640, 640, 3)"
      ]
     },
     "execution_count": 18,
     "metadata": {},
     "output_type": "execute_result"
    }
   ],
   "source": [
    "x.shape"
   ]
  },
  {
   "cell_type": "code",
   "execution_count": 19,
   "id": "fa294ad3",
   "metadata": {},
   "outputs": [],
   "source": [
    "x=x/255"
   ]
  },
  {
   "cell_type": "code",
   "execution_count": 20,
   "id": "51624f84",
   "metadata": {},
   "outputs": [
    {
     "data": {
      "text/plain": [
       "(1, 640, 640, 3)"
      ]
     },
     "execution_count": 20,
     "metadata": {},
     "output_type": "execute_result"
    }
   ],
   "source": [
    "import numpy as np\n",
    "x=np.expand_dims(x,axis=0)\n",
    "img_data=preprocess_input(x)\n",
    "img_data.shape"
   ]
  },
  {
   "cell_type": "code",
   "execution_count": 23,
   "id": "593d17cb",
   "metadata": {},
   "outputs": [
    {
     "name": "stdout",
     "output_type": "stream",
     "text": [
      "1/1 [==============================] - 0s 20ms/step\n"
     ]
    }
   ],
   "source": [
    "prediction=model.predict(img_data)"
   ]
  },
  {
   "cell_type": "code",
   "execution_count": 26,
   "id": "232558db",
   "metadata": {},
   "outputs": [
    {
     "data": {
      "text/plain": [
       "9"
      ]
     },
     "execution_count": 26,
     "metadata": {},
     "output_type": "execute_result"
    }
   ],
   "source": [
    "max_index = np.argmax(prediction)\n",
    "max_index"
   ]
  },
  {
   "cell_type": "code",
   "execution_count": null,
   "id": "7d28290c",
   "metadata": {},
   "outputs": [],
   "source": []
  }
 ],
 "metadata": {
  "kernelspec": {
   "display_name": "Python 3 (ipykernel)",
   "language": "python",
   "name": "python3"
  },
  "language_info": {
   "codemirror_mode": {
    "name": "ipython",
    "version": 3
   },
   "file_extension": ".py",
   "mimetype": "text/x-python",
   "name": "python",
   "nbconvert_exporter": "python",
   "pygments_lexer": "ipython3",
   "version": "3.8.17"
  }
 },
 "nbformat": 4,
 "nbformat_minor": 5
}
